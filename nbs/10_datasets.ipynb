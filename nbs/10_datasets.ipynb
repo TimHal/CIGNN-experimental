{
 "cells": [
  {
   "cell_type": "markdown",
   "id": "90fc235a-ee5a-4edc-87d1-08130c582b8f",
   "metadata": {},
   "source": [
    "# datasets\n",
    "\n",
    "> Fetching and loading data"
   ]
  },
  {
   "cell_type": "code",
   "execution_count": null,
   "id": "31e648e7-2def-477e-8010-74ddaaa41285",
   "metadata": {},
   "outputs": [],
   "source": [
    "#| default_exp data"
   ]
  },
  {
   "cell_type": "code",
   "execution_count": null,
   "id": "f771f61f-9add-4ced-9326-28a72783583d",
   "metadata": {},
   "outputs": [],
   "source": [
    "#| hide\n",
    "import nbdev; nbdev.nbdev_export()"
   ]
  },
  {
   "cell_type": "code",
   "execution_count": null,
   "id": "04ab3e6b-40f8-4734-8bb2-a106665f9d9b",
   "metadata": {},
   "outputs": [],
   "source": [
    "#| export\n",
    "def say_hello(to):\n",
    "    \"Say hello to somebody\"\n",
    "    return f'Hello {to}!'"
   ]
  },
  {
   "cell_type": "code",
   "execution_count": null,
   "id": "88c9577c-46f2-4ed1-9827-824122e2df82",
   "metadata": {},
   "outputs": [],
   "source": [
    "assert say_hello(\"Hamel\") == \"Hello Hamel!\""
   ]
  }
 ],
 "metadata": {
  "kernelspec": {
   "display_name": "Python 3 (ipykernel)",
   "language": "python",
   "name": "python3"
  },
  "language_info": {
   "codemirror_mode": {
    "name": "ipython",
    "version": 3
   },
   "file_extension": ".py",
   "mimetype": "text/x-python",
   "name": "python",
   "nbconvert_exporter": "python",
   "pygments_lexer": "ipython3",
   "version": "3.12.3"
  }
 },
 "nbformat": 4,
 "nbformat_minor": 5
}
